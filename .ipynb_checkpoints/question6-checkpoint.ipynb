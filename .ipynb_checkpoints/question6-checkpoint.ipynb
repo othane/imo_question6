{
 "cells": [
  {
   "cell_type": "markdown",
   "metadata": {},
   "source": [
    "# IMO - Question 6"
   ]
  },
  {
   "cell_type": "markdown",
   "metadata": {},
   "source": [
    "## Problem\n",
    "\n",
    "For the following equation\n",
    "\n",
    "$$ f\\left(a,b\\right) = \\frac {a^2 + b^2}{a \\cdot b + 1} = c^2 $$ \n",
    "\n",
    "If $a$ and $b$ are in the set of positive integers (ie $a \\in \\mathbb{Z}_{>0}$ and $b \\in \\mathbb{Z}_{>0}$), show that when the result of $f\\left(a,b\\right)$ is in the set of positive integers (ie $c^2 \\in \\mathbb{Z}_{>0}$), the result must be a square number."
   ]
  },
  {
   "cell_type": "markdown",
   "metadata": {},
   "source": [
    "### code setup\n",
    "\n",
    "My solution to this problem will require the use of prime numbers and prime factors, so lets get some bioler plate code for that sorted now"
   ]
  },
  {
   "cell_type": "code",
   "execution_count": null,
   "metadata": {
    "collapsed": true
   },
   "outputs": [],
   "source": [
    "from pylab import *\n",
    "import json\n",
    "\n",
    "# test a & b etc up to N\n",
    "N = 500"
   ]
  },
  {
   "cell_type": "markdown",
   "metadata": {},
   "source": [
    "Find primes using a simple sieve. This doesnt take too long (in comparison to later), but we can make things a bit faster by caching the results."
   ]
  },
  {
   "cell_type": "code",
   "execution_count": 12,
   "metadata": {
    "collapsed": false
   },
   "outputs": [
    {
     "name": "stdout",
     "output_type": "stream",
     "text": [
      "Loading list of known primes ...\n",
      "Done\n"
     ]
    }
   ],
   "source": [
    "# make some prime numbers\n",
    "def psieve(M):\n",
    "    \"\"\"\n",
    "    find primes between 1 and M\n",
    "    \"\"\"\n",
    "    # init\n",
    "    sieve = []\n",
    "    def update_sieve(p):\n",
    "        sieve.append(p*range(int(M*1.0/p)))\n",
    "    primes = [2,]\n",
    "    update_sieve(2)\n",
    "\n",
    "    # hunt\n",
    "    for m in range(3,M):\n",
    "        # if we have found this already don't worry\n",
    "        if m in sieve:\n",
    "            continue\n",
    "        \n",
    "        # if m / all known primes this number has a known\n",
    "        # prime factor so give up ... ideally we would add\n",
    "        # these to our sive\n",
    "        if any([m % p == 0 for p in primes]):\n",
    "            continue\n",
    "\n",
    "        # ok so m is not a known prime and it has no known\n",
    "        # prime factors so its a new prime !!! yaya\n",
    "        primes.append(m)\n",
    "        update_sieve(m)\n",
    "    return primes\n",
    "\n",
    "\n",
    "# load our cached primes list or build it again if missing\n",
    "try:\n",
    "    with open(\"primes.json\", \"r\") as f:\n",
    "        print \"Loading list of known primes ...\"\n",
    "        primes = json.load(f)\n",
    "    print \"Done\"        \n",
    "except IOError:\n",
    "    print \"Building initial prime list ... \"\n",
    "    primes = psieve(N)\n",
    "    print \"Done\"\n",
    "    with open(\"primes.json\", \"w\") as f:\n",
    "        json.dump(primes,f)"
   ]
  },
  {
   "cell_type": "markdown",
   "metadata": {},
   "source": [
    "We will also need to know the prime factors of certain numbers. This takes a very long time, so we do a very brutal approach and cache the results to make this quick.\n",
    "\n",
    "Note, we could make this faster by only caching the prime factors of $a$ and $b$ only when $f\\left(a,b\\right)$ results in a integer. However we can just bang out this big table once and then cache it, and it is quite helpful for debuging and testing etc so I just keep it for all numbers."
   ]
  },
  {
   "cell_type": "code",
   "execution_count": null,
   "metadata": {
    "collapsed": false
   },
   "outputs": [
    {
     "name": "stdout",
     "output_type": "stream",
     "text": [
      "Loading list of known prime factors ...\n",
      "Done\n"
     ]
    }
   ],
   "source": [
    "pfactor_lut = None\n",
    "def pfactors(x):\n",
    "    \"\"\"\n",
    "    return prime pfactors of x and their powers\n",
    "    \"\"\"\n",
    "    if pfactor_lut is None:\n",
    "        ret = {}\n",
    "        for p in primes:\n",
    "            if x % p == 0:\n",
    "                # p is a prime factor, what is its power ie p**n?\n",
    "                for n in range(1, x+1):\n",
    "                    if x % p**n != 0:\n",
    "                        break\n",
    "                ret[p] = n - 1\n",
    "        print \"prime factors of {} are {}\".format(x, ret)\n",
    "        return ret\n",
    "    else:\n",
    "        return pfactor_lut[str(x)]\n",
    "\n",
    "\n",
    "# load our cached prime factor table or build it again if missing\n",
    "try:\n",
    "    with open(\"prime_factors.json\", \"r\") as f:\n",
    "        print \"Loading list of known prime factors ...\"\n",
    "        pfactor_lut = json.load(f)\n",
    "        print \"Done\"\n",
    "except IOError:\n",
    "    print \"Building initial prime factor table ... \"\n",
    "    pfactor_lut = {str(x): pfactors(x) for x in range(1,N**2)}\n",
    "    print \"Done\"\n",
    "    with open(\"prime_factors.json\", \"w\") as f:\n",
    "        json.dump(pfactor_lut, f)"
   ]
  },
  {
   "cell_type": "markdown",
   "metadata": {},
   "source": [
    "## Theorm 1\n",
    "\n",
    "Given $x$ is a positive integer (ie $x \\in \\mathbb{Z}_{>0}$) we can write x as\n",
    "\n",
    "$$ x = \\prod{p_{x1}, p_{x2}, ...} $$\n",
    "\n",
    "Where $p_{x_k}$ are the prime factors of x. \n",
    "\n",
    "Let\n",
    "\n",
    "$$ y = x + 1 = \\prod{p_{x1}, p_{x2}, ...} + 1 $$\n",
    "\n",
    "Then\n",
    "\n",
    "$$ \\frac {y}{p_{x_i}} = \\frac {\\prod{p_{x1}, p_{x2}, {p_{xi}} ...}}{{p_{xi}}} + \\frac {1}{p_{xi}} $$\n",
    "\n",
    "So the first term will be a positive integer\n",
    "\n",
    "$$ \\require{cancel} \\frac {\\prod{p_{x1}, p_{x2}, \\bcancel{p_{xi}} ...}}{\\bcancel{p_{xi}}} \\in \\mathbb{Z}_{>0} $$\n",
    "\n",
    "But the final term will be a fraction\n",
    "\n",
    "$$ \\frac {1}{p_{xi}} \\not \\in \\mathbb{Z} $$\n",
    "\n",
    "Hence $y$ can have no prime factors in common with x"
   ]
  },
  {
   "cell_type": "markdown",
   "metadata": {},
   "source": [
    "### Testing"
   ]
  },
  {
   "cell_type": "code",
   "execution_count": null,
   "metadata": {
    "collapsed": false
   },
   "outputs": [
    {
     "name": "stdout",
     "output_type": "stream",
     "text": [
      "False\n",
      "2: [u'2'] not in [u'3']\n",
      "3: [u'3'] not in [u'2']\n",
      "4: [u'2'] not in [u'5']\n",
      "5: [u'5'] not in [u'3', u'2']\n",
      "6: [u'3', u'2'] not in [u'7']\n",
      "7: [u'7'] not in [u'2']\n",
      "8: [u'2'] not in [u'3']\n",
      "9: [u'3'] not in [u'2', u'5']\n",
      "10: [u'2', u'5'] not in [u'11']\n",
      "11: [u'11'] not in [u'3', u'2']\n",
      "... etc ...\n"
     ]
    }
   ],
   "source": [
    "# check all N numbers and find the prime factors for x and x+1 and ensure they share no \n",
    "# common facotors (to any power!)\n",
    "print any([[py for py in pfactors(x+1).keys() if py in pfactors(x)] for x in range(2,N-1)])\n",
    "\n",
    "# for completeness lets show details for the first 10 numbers\n",
    "for x in range(2, 12):\n",
    "    px = pfactors(x)\n",
    "    py = pfactors(x + 1)\n",
    "    print \"{}: {} not in {}\".format(x, px.keys(), py.keys())\n",
    "print \"... etc ...\""
   ]
  },
  {
   "cell_type": "markdown",
   "metadata": {},
   "source": [
    "## Theorm 2\n",
    "\n",
    "Let\n",
    "\n",
    "$$ z_n = a^2 + b^2 = \\prod{p_{a1}^2, p_{a2}^2, ...} + \\prod{p_{b1}^2, p_{b2}^2, ...} $$\n",
    "\n",
    "$$ z_d = a \\cdot b + 1 = \\prod{p_{a1}, p_{a2}, ...} \\cdot \\prod{p_{b1}, p_{b2}, ...} + 1 $$\n",
    "\n",
    "Hence $z_d$ cannot share any prime factors with $a$ or $b$ by Theorm 1.\n",
    "\n",
    "Since $z_n$ = $z_d$ only when $a$ = $b$ = 1 for all other cases $a^2 + b^2 > a \\cdot b + 1$, hence there must be a common factor between $a$ and $b$ such that what remains can cancle $z_d$ (such that the result will be an integer as the common factors of $a$ and $b$ cannot share a factor with $z_d$) in order to for the result to be an integer\n",
    "\n",
    "$$ z_n = a^2 + b^2 = \\prod{p_{ab_k}^{2m}} \\cdot \\frac {a^2 + b^2}{\\prod{p_{ab_k}^{2m}}} = \\prod{p_{ab_k}^{2m}} \\cdot z_d $$\n",
    "\n",
    "where $p_{ab_k}$ is the set of common prime factors between $a$ and $b$, and $m$ is the lowest common power\n",
    "\n",
    "Let\n",
    "\n",
    "$$ c^2 = \\prod{p_{ab_k}^{2m}} \\in \\mathbb{Z}_{>0} $$\n",
    "\n",
    "since this is product of powers, each of a multiple of 2, then $c^2$ is square"
   ]
  },
  {
   "cell_type": "code",
   "execution_count": null,
   "metadata": {
    "collapsed": false
   },
   "outputs": [
    {
     "name": "stdout",
     "output_type": "stream",
     "text": [
      "*s(a=1, b=1) = 1 , c2 = 1.0\n",
      "*s(a=2, b=8) = 4 , c2 = 4\n",
      "*s(a=3, b=27) = 9 , c2 = 9\n",
      "*s(a=4, b=64) = 16 , c2 = 16\n",
      "*s(a=5, b=125) = 25 , c2 = 25\n",
      "*s(a=6, b=216) = 36 , c2 = 36\n",
      "*s(a=7, b=343) = 49 , c2 = 49\n",
      "*s(a=8, b=2) = 4 , c2 = 4\n",
      "*s(a=8, b=30) = 4 , c2 = 4\n",
      "*s(a=27, b=3) = 9 , c2 = 9\n",
      "*s(a=27, b=240) = 9 , c2 = 9\n",
      "*s(a=30, b=8) = 4 , c2 = 4\n",
      "*s(a=30, b=112) = 4 , c2 = 4\n",
      "*s(a=64, b=4) = 16 , c2 = 16\n",
      "*s(a=112, b=30) = 4 , c2 = 4\n",
      "*s(a=112, b=418) = 4 , c2 = 4\n",
      "*s(a=125, b=5) = 25 , c2 = 25\n",
      "*s(a=216, b=6) = 36 , c2 = 36\n",
      "*s(a=240, b=27) = 9 , c2 = 9\n",
      "*s(a=343, b=7) = 49 , c2 = 49\n",
      "*s(a=418, b=112) = 4 , c2 = 4\n",
      "done 500 iterations\n"
     ]
    }
   ],
   "source": [
    "def min_common_factors(a, b):\n",
    "    afactors = pfactors(a)\n",
    "    bfactors = pfactors(b)\n",
    "    # one liner\n",
    "    return [int(pf)**(min(n, bfactors[pf])) for pf, n in afactors.items() if pf in bfactors]\n",
    "\n",
    "# for all a and b check we predict c2 accurately \n",
    "for a in range(1,N):\n",
    "    for b in range(1,N):\n",
    "        found = ''\n",
    "        # we need the powers of the primes for this to work !!\n",
    "        c2 = prod(min_common_factors(a**2, b**2))\n",
    "        num = a**2 + b**2\n",
    "        den = a*b + 1\n",
    "\n",
    "        if num / c2 == den:\n",
    "            found = '*' \n",
    "\n",
    "        if num % den == 0:\n",
    "            print \"{}s(a={}, b={}) = {} , c2 = {}\".format(\n",
    "                found, a, b, (a**2 + b**2) / (a*b + 1), c2)\n",
    "\n",
    "print \"done {} iterations\".format(N)"
   ]
  }
 ],
 "metadata": {
  "kernelspec": {
   "display_name": "Python 2",
   "language": "python",
   "name": "python2"
  },
  "language_info": {
   "codemirror_mode": {
    "name": "ipython",
    "version": 2
   },
   "file_extension": ".py",
   "mimetype": "text/x-python",
   "name": "python",
   "nbconvert_exporter": "python",
   "pygments_lexer": "ipython2",
   "version": "2.7.12"
  }
 },
 "nbformat": 4,
 "nbformat_minor": 1
}
